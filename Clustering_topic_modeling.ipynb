{
 "cells": [
  {
   "cell_type": "markdown",
   "metadata": {},
   "source": [
    "# HW 2: Clustering and Topic Models [100 points]"
   ]
  },
  {
   "cell_type": "markdown",
   "metadata": {},
   "source": [
    "Name: Alex Caico\n",
    "\n",
    "Andrew ID: acaico\n",
    "\n",
    "Collaborators (if none, say \"none\"; do *not* leave this blank): Colton Mouritsen, Ben Turner\n",
    "https://stackoverflow.com/questions/31107945/how-to-perform-prediction-with-lda-linear-discriminant-in-scikit-learn\n",
    "\n",
    "Reminder: you should not be sharing code."
   ]
  },
  {
   "cell_type": "markdown",
   "metadata": {},
   "source": [
    "## Question 1: Clustering emails using Gaussian Mixture Models [50 pts]"
   ]
  },
  {
   "cell_type": "markdown",
   "metadata": {},
   "source": [
    "For this problem, we will be analyzing emails taken from the [Enron Email Dataset](https://www.cs.cmu.edu/~enron/). Data is provided in the `enron` data directory, with one file per email. The data set includes a combination of \"spam\" and \"ham\" emails. Spam emails are unsolicited messages intended to sell a product or scam users into providing personal information, while ham emails represent everything that is not spam. \n",
    "\n",
    "The language used in spam emails tends to be considerably different from typical business emails. Most spam filters leverage this difference in word frequencies to detect spam as it arrives and filter it out of email inboxes. We will use Gaussian Mixture Models (GMMs) to cluster the emails and attempt to identify groups of emails which are likely to be spam."
   ]
  },
  {
   "cell_type": "markdown",
   "metadata": {},
   "source": [
    "### Part A: Construct a list of processed documents [10 points]"
   ]
  },
  {
   "cell_type": "markdown",
   "metadata": {},
   "source": [
    "Provided below is a function that returns a document present in a file given a filename. The function performs some preprocessing to (1) remove punctuation, (2),(3) remove whitespace and (4) lowercase all words. Using the makeWordList function, construct a list of processed documents."
   ]
  },
  {
   "cell_type": "code",
   "execution_count": 1,
   "metadata": {},
   "outputs": [],
   "source": [
    "import re\n",
    "import string\n",
    "import codecs\n",
    "\n",
    "def makeWordList(path):\n",
    "    \n",
    "    with codecs.open(path, \"r\", encoding='utf-8', errors='ignore') as f:\n",
    "        corpus_text = f.read()\n",
    "\n",
    "    for c in string.punctuation:\n",
    "        corpus_text = corpus_text.replace(c, \"\")  # -- (1)\n",
    "    \n",
    "    text = re.sub(r'\\S*\\d\\S*', '', corpus_text) # -- (2)\n",
    "    text = re.sub(r'[^\\w\\s]', '', text)         # -- (3)\n",
    "    \n",
    "    text = text.lower().split()           # -- (4)         \n",
    "    \n",
    "    li = []\n",
    "    for token in text:\n",
    "        li.append(token)\n",
    "\n",
    "    return \" \".join(li)"
   ]
  },
  {
   "cell_type": "code",
   "execution_count": 2,
   "metadata": {},
   "outputs": [
    {
     "name": "stdout",
     "output_type": "stream",
     "text": [
      "Number of emails: 5171\n"
     ]
    }
   ],
   "source": [
    "######################### Write your code here #########################\n",
    "\n",
    "import glob\n",
    "files = glob.glob('./data/enron/*.txt')\n",
    "                  \n",
    "email_list = []                 \n",
    "for file in files:\n",
    "    email_list.append(makeWordList(file))\n",
    "\n",
    "print(\"Number of emails:\", len(email_list))\n"
   ]
  },
  {
   "cell_type": "markdown",
   "metadata": {},
   "source": [
    "### Part B: Construct a document matrix [10 points]"
   ]
  },
  {
   "cell_type": "markdown",
   "metadata": {},
   "source": [
    "Next, construct a document matrix `X` as a matrix of [TF-IDF](https://en.wikipedia.org/wiki/Tf%E2%80%93idf) features for each document. TF-IDF features encode information about the word frequency within a document, weighted by the frequency of the same word for corpus as a whole.\n",
    "\n",
    "   - Use the `TfidfVectorizer` from [scikit-learn](http://scikit-learn.org/stable/modules/generated/sklearn.feature_extraction.text.TfidfVectorizer.html) to create the document matrix `X`.\n",
    "   - Set `min_df=50`; this drops words that don't occur in at least 50 documents.\n",
    "   - Set `stop_words=\"english\"` and `max_df=0.8` to filter out stop-words.\n",
    "   - Print the number of unique words in the vocabulary Hint: Look for the `vocabulary_` attribute in the `TfidfVectorizer` object after fitting the vectorizer to the data set. The vocabulary will also be needed in part (d)."
   ]
  },
  {
   "cell_type": "code",
   "execution_count": 3,
   "metadata": {},
   "outputs": [],
   "source": [
    "########################################################################\n",
    "######################### Write your code here #########################\n",
    "########################################################################\n",
    "\n",
    "from sklearn.feature_extraction.text import TfidfVectorizer\n",
    "\n",
    "vectorizer = TfidfVectorizer(max_df=0.8,\n",
    "                             min_df=50, \n",
    "                             stop_words='english')\n",
    "\n",
    "X = vectorizer.fit_transform(email_list)"
   ]
  },
  {
   "cell_type": "code",
   "execution_count": 4,
   "metadata": {},
   "outputs": [
    {
     "name": "stdout",
     "output_type": "stream",
     "text": [
      "Number of unique words 1680\n",
      "Matrix Shape (5171, 1680)\n"
     ]
    }
   ],
   "source": [
    "print(\"Number of unique words\", len(vectorizer.vocabulary_))\n",
    "print(\"Matrix Shape\", X.shape)"
   ]
  },
  {
   "cell_type": "markdown",
   "metadata": {},
   "source": [
    "### Part C: Perform Clustering [10 points]"
   ]
  },
  {
   "cell_type": "markdown",
   "metadata": {},
   "source": [
    "Perform clustering on the document matrix X using GMMs. \n",
    "- Use the `GaussianMixture` module from [scikit-learn](http://scikit-learn.org/stable/modules/generated/sklearn.mixture.GaussianMixture.html) to cluster the documents.\n",
    "- Set the number of clusters (mixture components) to 3.\n",
    "- Print the number of documents assigned to each cluster."
   ]
  },
  {
   "cell_type": "code",
   "execution_count": 5,
   "metadata": {},
   "outputs": [
    {
     "data": {
      "text/plain": [
       "GaussianMixture(covariance_type='full', init_params='kmeans', max_iter=200,\n",
       "        means_init=None, n_components=3, n_init=1, precisions_init=None,\n",
       "        random_state=0, reg_covar=1e-06, tol=0.001, verbose=0,\n",
       "        verbose_interval=10, warm_start=False, weights_init=None)"
      ]
     },
     "execution_count": 5,
     "metadata": {},
     "output_type": "execute_result"
    }
   ],
   "source": [
    "########################################################################\n",
    "######################### Write your code here #########################\n",
    "from sklearn import mixture\n",
    "\n",
    "gmm = mixture.GaussianMixture(n_components=3, max_iter=200, random_state=0)\n",
    "gmm.fit(X.toarray())"
   ]
  },
  {
   "cell_type": "code",
   "execution_count": 6,
   "metadata": {},
   "outputs": [],
   "source": [
    "import matplotlib.pyplot as plt\n",
    "gmm_cluster_assignments = gmm.predict(X.toarray())"
   ]
  },
  {
   "cell_type": "code",
   "execution_count": 7,
   "metadata": {},
   "outputs": [
    {
     "name": "stdout",
     "output_type": "stream",
     "text": [
      "Cluster 1 size:  363\n",
      "Cluster 2 size:  1786\n",
      "Cluster 3 size:  3022\n"
     ]
    }
   ],
   "source": [
    "print(\"Cluster 1 size: \", len(X.toarray()[gmm_cluster_assignments == 0]))\n",
    "print(\"Cluster 2 size: \", len(X.toarray()[gmm_cluster_assignments == 1]))\n",
    "print(\"Cluster 3 size: \", len(X.toarray()[gmm_cluster_assignments == 2]))"
   ]
  },
  {
   "cell_type": "markdown",
   "metadata": {},
   "source": [
    "### Part D: Characterize the clusters [10 points]"
   ]
  },
  {
   "cell_type": "markdown",
   "metadata": {},
   "source": [
    "Now, we will attempt to characterize the clusters based on the frequency of spam-relevant words. \n",
    "- Select 3 \"spammy\" words from the vocabulary that you expect to occur frequently in spam emails and less frequently in normal business emails (e.g., 'click', 'www', 'offer'). Construct a list, `spam_indices`, storing the indices of the spammy words you selected in the vocabulary generated by `TfidfVectorizer`.\n",
    "- Select 3 \"hammy\" words from the vocabulary you think will occur frequently in business emails and infrequently in spam emails (e.g., 'meeting', 'attached', 'review'). Construct a list, `ham_indices`, storing the indices of the hammy words you selected in the vocabulary generated by `TfidfVectorizer`.\n",
    "- Use the function provided below, `plot_spam_words_by_cluster`, to plot the average TF-IDF features for your selected spammy words and hammy words for each cluster. The function takes four parameters:\n",
    "    - `predicted` is predicted cluster assignments returned by `GaussianMixture.predict()`\n",
    "    - `n_clusters` is the number of clusters. This should match the number of clusters from your GMM.\n",
    "    - `spam_indices` is a list of indices of spammy words in the vocabulary.\n",
    "    - `ham_indices` is a list of indices of hammy (typical business) words in the vocabulary."
   ]
  },
  {
   "cell_type": "code",
   "execution_count": 8,
   "metadata": {},
   "outputs": [],
   "source": [
    "def plot_spam_words_by_cluster(predicted, n_clusters, spam_indices, ham_indices):\n",
    "    import numpy as np\n",
    "    import matplotlib.pyplot as plt\n",
    "    \n",
    "    # Calculate mean TF-IDF features for each cluster\n",
    "    mean_tfidf_spam = []\n",
    "    mean_tfidf_ham = []\n",
    "    for spam in spam_indices:\n",
    "        mean_tfidf_spam.append([])\n",
    "    for ham in ham_indices:\n",
    "        mean_tfidf_ham.append([])\n",
    "    \n",
    "    for i in range(n_clusters):\n",
    "        for j, spam_idx in enumerate(spam_indices):\n",
    "            mean_tfidf_spam[j].append(X[predicted==i, spam_idx].mean())\n",
    "        for j, ham_idx in enumerate(ham_indices):\n",
    "            mean_tfidf_ham[j].append(X[predicted==i, ham_idx].mean())\n",
    "    \n",
    "    # Generate plot\n",
    "    fig, ax = plt.subplots()\n",
    "\n",
    "    ind = np.arange(n_clusters)    # the x locations for the groups\n",
    "    width = 0.10         # the width of the bars\n",
    "\n",
    "    # Plot spam bars\n",
    "    for i, val in enumerate(mean_tfidf_spam):\n",
    "        spam_bar = ax.bar(ind - (len(mean_tfidf_spam)-i-1)*width, val, width, color='r', bottom=0)\n",
    "\n",
    "    # Plot ham bars\n",
    "    for i, val in enumerate(mean_tfidf_ham):\n",
    "        ham_bar = ax.bar(ind + (len(mean_tfidf_ham)-i)*width, val, width,\n",
    "                color='y', bottom=0)\n",
    "\n",
    "    ax.set_title('Mean TF-IDF Features by Cluster for Spam-Relevant Words')\n",
    "    ax.set_xticks(ind + width / 2)\n",
    "    xticklabels = []\n",
    "    for i in range(n_clusters):\n",
    "        xticklabels.append('Cluster ' + str(i) + '\\n(n=' + str((predicted==i).sum()) + ')')\n",
    "    ax.set_xticklabels(xticklabels)\n",
    "\n",
    "    ax.legend((spam_bar[0], ham_bar[0]), ('Spammy words', 'Hammy words'))\n",
    "    ax.autoscale_view()\n",
    "    ax.set_ylabel('Mean TF-IDF')\n",
    "    plt.show()"
   ]
  },
  {
   "cell_type": "code",
   "execution_count": 9,
   "metadata": {},
   "outputs": [
    {
     "data": {
      "image/png": "[encoded data removed]",
      "text/plain": [
       "<Figure size 432x288 with 1 Axes>"
      ]
     },
     "metadata": {
      "needs_background": "light"
     },
     "output_type": "display_data"
    }
   ],
   "source": [
    "########################################################################\n",
    "######################### Write your code here #########################\n",
    "########################################################################\n",
    "\n",
    "spam_indices = [vectorizer.vocabulary_['click'], vectorizer.vocabulary_['free'], vectorizer.vocabulary_['www']]\n",
    "ham_indices = [vectorizer.vocabulary_['offer'], vectorizer.vocabulary_['analysis'], vectorizer.vocabulary_['report']]\n",
    "\n",
    "plot_spam_words_by_cluster(gmm_cluster_assignments, 3, spam_indices, ham_indices)\n"
   ]
  },
  {
   "cell_type": "markdown",
   "metadata": {},
   "source": [
    "### Part E: Interpret results [10 points]"
   ]
  },
  {
   "cell_type": "markdown",
   "metadata": {},
   "source": [
    "From the plot generated in part (d), do any of the clusters correspond to spam emails, based on the frequency of spammy and hammy words? Do any of the clusters appear to correspond to typical business emails (ham)? \n",
    "\n",
    "Re-run your analysis with a different choice for the number of clusters in your GMM (e.g., `n_clusters=5` or `n_clusters=2`). How does changing the number of clusters affect your results? Does one choice of `n_clusters` appear better than another for locating clusters of spam emails?"
   ]
  },
  {
   "cell_type": "code",
   "execution_count": 10,
   "metadata": {},
   "outputs": [
    {
     "data": {
      "image/png": "[encoded data removed]",
      "text/plain": [
       "<Figure size 432x288 with 1 Axes>"
      ]
     },
     "metadata": {
      "needs_background": "light"
     },
     "output_type": "display_data"
    },
    {
     "data": {
      "image/png": "[encoded data removed]",
      "text/plain": [
       "<Figure size 432x288 with 1 Axes>"
      ]
     },
     "metadata": {
      "needs_background": "light"
     },
     "output_type": "display_data"
    }
   ],
   "source": [
    "components = [2,5]\n",
    "for component in components:\n",
    "    gmm = mixture.GaussianMixture(n_components=component, max_iter=100, random_state=0)\n",
    "    gmm.fit(X.toarray())\n",
    "    gmm_cluster_assignments = gmm.predict(X.toarray())\n",
    "    spam_indices = [vectorizer.vocabulary_['click'], vectorizer.vocabulary_['free'], vectorizer.vocabulary_['www']]\n",
    "    ham_indices = [vectorizer.vocabulary_['offer'], vectorizer.vocabulary_['analysis'], vectorizer.vocabulary_['report']]\n",
    "    plot_spam_words_by_cluster(gmm_cluster_assignments, component, spam_indices, ham_indices)"
   ]
  },
  {
   "cell_type": "markdown",
   "metadata": {},
   "source": [
    "*** WRITE YOUR ANSWER HERE IN TEXT ***"
   ]
  },
  {
   "cell_type": "markdown",
   "metadata": {
    "collapsed": true
   },
   "source": [
    "When running with 3 clusters, some of the clusters seems to represent spam vs. ham emails. Cluster1 shows that the spam words I've chosen appear very frequently within that cluster, meaing this cluster is for spam email. Cluster 0 has barely any spam words, but does have more business words, so this seems that cluster are ham emails. Cluster 2 has about the same frequency for the spam and ham words I tried, so I cannot tell if this cluster if spam or ham mail. \n",
    "\n",
    "When running the GMM again with with 2 and 5 clusters the results change. There is still some interpretable clusters that can be considered as clusters for spam and ham email. With 2 clusters, cluster 0 is most likely to be spam and cluster 1 is ham. With 5 clusters, cluster 3 seems to represent spam emails. The other clusters are not as definitive. \n",
    "\n",
    "Using 3 clusters gave the most distinct clusters that can be used to separate spam vs ham emails. "
   ]
  },
  {
   "cell_type": "markdown",
   "metadata": {},
   "source": [
    "## Question 2: Latent \"Purposes\" in Mobile Apps [45 points]\n",
    "\n",
    "\n",
    "Think of Android applications as \"documents\", where \"words\" are the \"permissions\" that each app requests. Each app has a set of latent \"purposes\" (topics); a \"purpose\" may be a specific task (such as taking photographs and uploading them to the internet), and an application may have a mixture of purposes of varying strength.\n",
    "\n",
    "Can we uncover these purposes from a dataset of Android applications and the permissions they request?"
   ]
  },
  {
   "cell_type": "code",
   "execution_count": 11,
   "metadata": {},
   "outputs": [],
   "source": [
    "import numpy as np\n",
    "import matplotlib.pyplot as plt\n",
    "import pandas as pd\n",
    "%matplotlib inline"
   ]
  },
  {
   "cell_type": "markdown",
   "metadata": {},
   "source": [
    "### Part A: Load the data [0 points]"
   ]
  },
  {
   "cell_type": "markdown",
   "metadata": {},
   "source": [
    "The [dataset](http://www.mariofrank.net/andrApps/) contains ~180,000 applications from the Android app store, including each app's name, description and permissions requested. For more about Android app permissions, see [this report](http://www.pewinternet.org/2015/11/10/an-analysis-of-android-app-permissions/).\n",
    "\n",
    "   * Download the data and unzip it into the same folder as this notebook.\n",
    "   * Rename the CSV file to \"android.csv\".\n",
    "   * Run the cells below to load the data into the notebook.\n",
    "\n",
    "This may take up ~2GB of RAM."
   ]
  },
  {
   "cell_type": "code",
   "execution_count": 12,
   "metadata": {},
   "outputs": [],
   "source": [
    "df = pd.read_csv(\"android.csv\", sep=\",\",  thousands=\",\")"
   ]
  },
  {
   "cell_type": "code",
   "execution_count": 13,
   "metadata": {},
   "outputs": [],
   "source": [
    "df[\"Number of ratings\"] = df[\"Number of ratings\"].astype(int) # fix data type\n",
    "df = df.drop_duplicates(subset=[\"App\"]).reset_index(drop=True)"
   ]
  },
  {
   "cell_type": "code",
   "execution_count": 14,
   "metadata": {},
   "outputs": [
    {
     "data": {
      "text/html": [
       "<div>\n",
       "<style scoped>\n",
       "    .dataframe tbody tr th:only-of-type {\n",
       "        vertical-align: middle;\n",
       "    }\n",
       "\n",
       "    .dataframe tbody tr th {\n",
       "        vertical-align: top;\n",
       "    }\n",
       "\n",
       "    .dataframe thead th {\n",
       "        text-align: right;\n",
       "    }\n",
       "</style>\n",
       "<table border=\"1\" class=\"dataframe\">\n",
       "  <thead>\n",
       "    <tr style=\"text-align: right;\">\n",
       "      <th></th>\n",
       "      <th>App</th>\n",
       "      <th>Package</th>\n",
       "      <th>Category</th>\n",
       "      <th>Description</th>\n",
       "      <th>Rating</th>\n",
       "      <th>Number of ratings</th>\n",
       "      <th>Price</th>\n",
       "      <th>Related apps</th>\n",
       "      <th>Dangerous permissions count</th>\n",
       "      <th>Safe permissions count</th>\n",
       "      <th>...</th>\n",
       "      <th>Your personal information : read Browser's history and bookmarks (D)</th>\n",
       "      <th>Your personal information : read calendar events (D)</th>\n",
       "      <th>Your personal information : read contact data (D)</th>\n",
       "      <th>Your personal information : read sensitive log data (D)</th>\n",
       "      <th>Your personal information : read user defined dictionary (D)</th>\n",
       "      <th>Your personal information : retrieve system internal state (S)</th>\n",
       "      <th>Your personal information : set alarm in alarm clock (S)</th>\n",
       "      <th>Your personal information : write Browser's history and bookmarks (D)</th>\n",
       "      <th>Your personal information : write contact data (D)</th>\n",
       "      <th>Your personal information : write to user defined dictionary (S)</th>\n",
       "    </tr>\n",
       "  </thead>\n",
       "  <tbody>\n",
       "    <tr>\n",
       "      <th>0</th>\n",
       "      <td>Google Maps</td>\n",
       "      <td>com.google.android.apps.maps</td>\n",
       "      <td>Travel &amp; Local</td>\n",
       "      <td>Download the latest release of Google Maps, an...</td>\n",
       "      <td>4.4</td>\n",
       "      <td>1438259</td>\n",
       "      <td>$0.00</td>\n",
       "      <td>{com.jsdfproductions.ctatrackerpro, com.alk.co...</td>\n",
       "      <td>17.0</td>\n",
       "      <td>8</td>\n",
       "      <td>...</td>\n",
       "      <td>0</td>\n",
       "      <td>0</td>\n",
       "      <td>1</td>\n",
       "      <td>0</td>\n",
       "      <td>0</td>\n",
       "      <td>0</td>\n",
       "      <td>0</td>\n",
       "      <td>0</td>\n",
       "      <td>1</td>\n",
       "      <td>0</td>\n",
       "    </tr>\n",
       "    <tr>\n",
       "      <th>1</th>\n",
       "      <td>Snowfall Live Wallpaper</td>\n",
       "      <td>fishnoodle.snowfall_free</td>\n",
       "      <td>Personalization</td>\n",
       "      <td>Snowfall Live Wallpaper: Wintertime on your ho...</td>\n",
       "      <td>4.3</td>\n",
       "      <td>18147</td>\n",
       "      <td>$0.00</td>\n",
       "      <td>{colfore.wallpaper.snowfree, com.tabsoft.wallp...</td>\n",
       "      <td>0.0</td>\n",
       "      <td>0</td>\n",
       "      <td>...</td>\n",
       "      <td>0</td>\n",
       "      <td>0</td>\n",
       "      <td>0</td>\n",
       "      <td>0</td>\n",
       "      <td>0</td>\n",
       "      <td>0</td>\n",
       "      <td>0</td>\n",
       "      <td>0</td>\n",
       "      <td>0</td>\n",
       "      <td>0</td>\n",
       "    </tr>\n",
       "    <tr>\n",
       "      <th>2</th>\n",
       "      <td>Aquarium Live Wallpaper</td>\n",
       "      <td>fishnoodle.aquarium_free</td>\n",
       "      <td>Personalization</td>\n",
       "      <td>A beautiful tropical fish tank live wallpaper!...</td>\n",
       "      <td>4.1</td>\n",
       "      <td>62145</td>\n",
       "      <td>$0.00</td>\n",
       "      <td>{com.convisual.lwp.fishometerlite, com.accessl...</td>\n",
       "      <td>0.0</td>\n",
       "      <td>0</td>\n",
       "      <td>...</td>\n",
       "      <td>0</td>\n",
       "      <td>0</td>\n",
       "      <td>0</td>\n",
       "      <td>0</td>\n",
       "      <td>0</td>\n",
       "      <td>0</td>\n",
       "      <td>0</td>\n",
       "      <td>0</td>\n",
       "      <td>0</td>\n",
       "      <td>0</td>\n",
       "    </tr>\n",
       "  </tbody>\n",
       "</table>\n",
       "<p>3 rows × 183 columns</p>\n",
       "</div>"
      ],
      "text/plain": [
       "                       App                       Package         Category  \\\n",
       "0              Google Maps  com.google.android.apps.maps   Travel & Local   \n",
       "1  Snowfall Live Wallpaper      fishnoodle.snowfall_free  Personalization   \n",
       "2  Aquarium Live Wallpaper      fishnoodle.aquarium_free  Personalization   \n",
       "\n",
       "                                         Description  Rating  \\\n",
       "0  Download the latest release of Google Maps, an...     4.4   \n",
       "1  Snowfall Live Wallpaper: Wintertime on your ho...     4.3   \n",
       "2  A beautiful tropical fish tank live wallpaper!...     4.1   \n",
       "\n",
       "   Number of ratings  Price  \\\n",
       "0            1438259  $0.00   \n",
       "1              18147  $0.00   \n",
       "2              62145  $0.00   \n",
       "\n",
       "                                        Related apps  \\\n",
       "0  {com.jsdfproductions.ctatrackerpro, com.alk.co...   \n",
       "1  {colfore.wallpaper.snowfree, com.tabsoft.wallp...   \n",
       "2  {com.convisual.lwp.fishometerlite, com.accessl...   \n",
       "\n",
       "   Dangerous permissions count  Safe permissions count  \\\n",
       "0                         17.0                       8   \n",
       "1                          0.0                       0   \n",
       "2                          0.0                       0   \n",
       "\n",
       "                                 ...                                 \\\n",
       "0                                ...                                  \n",
       "1                                ...                                  \n",
       "2                                ...                                  \n",
       "\n",
       "   Your personal information : read Browser's history and bookmarks (D)  \\\n",
       "0                                                  0                      \n",
       "1                                                  0                      \n",
       "2                                                  0                      \n",
       "\n",
       "   Your personal information : read calendar events (D)  \\\n",
       "0                                                  0      \n",
       "1                                                  0      \n",
       "2                                                  0      \n",
       "\n",
       "   Your personal information : read contact data (D)  \\\n",
       "0                                                  1   \n",
       "1                                                  0   \n",
       "2                                                  0   \n",
       "\n",
       "   Your personal information : read sensitive log data (D)  \\\n",
       "0                                                  0         \n",
       "1                                                  0         \n",
       "2                                                  0         \n",
       "\n",
       "   Your personal information : read user defined dictionary (D)  \\\n",
       "0                                                  0              \n",
       "1                                                  0              \n",
       "2                                                  0              \n",
       "\n",
       "   Your personal information : retrieve system internal state (S)  \\\n",
       "0                                                  0                \n",
       "1                                                  0                \n",
       "2                                                  0                \n",
       "\n",
       "   Your personal information : set alarm in alarm clock (S)  \\\n",
       "0                                                  0          \n",
       "1                                                  0          \n",
       "2                                                  0          \n",
       "\n",
       "   Your personal information : write Browser's history and bookmarks (D)  \\\n",
       "0                                                  0                       \n",
       "1                                                  0                       \n",
       "2                                                  0                       \n",
       "\n",
       "   Your personal information : write contact data (D)  \\\n",
       "0                                                  1    \n",
       "1                                                  0    \n",
       "2                                                  0    \n",
       "\n",
       "   Your personal information : write to user defined dictionary (S)  \n",
       "0                                                  0                 \n",
       "1                                                  0                 \n",
       "2                                                  0                 \n",
       "\n",
       "[3 rows x 183 columns]"
      ]
     },
     "execution_count": 14,
     "metadata": {},
     "output_type": "execute_result"
    }
   ],
   "source": [
    "df.head(n=3)"
   ]
  },
  {
   "cell_type": "markdown",
   "metadata": {},
   "source": [
    "### Part B: Convert each app into a \"document\" [0 points]\n",
    "\n",
    "The code below does the following:\n",
    "\n",
    "   * Filter out all the columns except the permission columns.\n",
    "   * Convert this dataframe into a numpy matrix.\n",
    "\n",
    "There are thus 180295 apps (documents) and 173 permissions (words).\n",
    "\n",
    "   - `X` is the \"document\" or \"word-frequency\" matrix.\n",
    "   - `permission_columns` contains the words ordered by their column index in X.\n",
    "   - `app_names` contains the application names ordered by their row index in X.\n",
    "   - `app_ratings` contains the *number* of application ratings (not the ratings themselves)."
   ]
  },
  {
   "cell_type": "code",
   "execution_count": 15,
   "metadata": {},
   "outputs": [
    {
     "name": "stderr",
     "output_type": "stream",
     "text": [
      "C:\\Users\\ajcai\\Anaconda3\\lib\\site-packages\\ipykernel_launcher.py:6: FutureWarning: Method .as_matrix will be removed in a future version. Use .values instead.\n",
      "  \n",
      "C:\\Users\\ajcai\\Anaconda3\\lib\\site-packages\\ipykernel_launcher.py:7: FutureWarning: Method .as_matrix will be removed in a future version. Use .values instead.\n",
      "  import sys\n"
     ]
    }
   ],
   "source": [
    "permission_columns = list(df.columns[10:])\n",
    "app_names = list(df[\"App\"])\n",
    "df_app_names= df[\"App\"]#create to use app names\n",
    "app_ratings = np.array(df[\"Number of ratings\"])\n",
    "df_perms = df[permission_columns]\n",
    "X1 = df_perms.as_matrix()\n",
    "X_app_names = df_app_names.as_matrix()\n",
    "del df # uncomment to free up RAM\n",
    "del df_perms # uncomment to free up RAM\n"
   ]
  },
  {
   "cell_type": "markdown",
   "metadata": {},
   "source": [
    "### Part C: Downweight \"stop-words\" [2.5 points]\n",
    "\n",
    "There are some permissions requested by almost all applications (like \"INTERNET\"), they are similar to stop-words (\"the\", \"and\", etc.) in natural language. We can downweight them by TF-IDF normalization.\n",
    "\n",
    "   * Use the `TfidfTransformer` class in `scikit-learn` to transform X."
   ]
  },
  {
   "cell_type": "code",
   "execution_count": 16,
   "metadata": {},
   "outputs": [
    {
     "name": "stdout",
     "output_type": "stream",
     "text": [
      "App by permission matrix shape: (180295, 173)\n"
     ]
    }
   ],
   "source": [
    "########################################################################\n",
    "######################### Write your code here #########################\n",
    "from sklearn.feature_extraction.text import TfidfTransformer\n",
    "\n",
    "transformer = TfidfTransformer(norm='l2')\n",
    "X_transformed = transformer.fit_transform(X1)\n",
    "\n",
    "print(\"App by permission matrix shape:\", X_transformed.shape)"
   ]
  },
  {
   "cell_type": "markdown",
   "metadata": {},
   "source": [
    "### Part D: Discover 10 \"topics\" [2.5 points]\n",
    "\n",
    "   * Use the `LatentDirichletAllocation` class in `scikit-learn` to fit 10 topics to the data.\n",
    "   * Use 10 max iterations, set `n_jobs=-1` to use all cores on your machine (if it helps).\n",
    "   * Feel free to understand and play around with other parameters.\n",
    "   * This may take around 3 minutes to run."
   ]
  },
  {
   "cell_type": "code",
   "execution_count": 17,
   "metadata": {},
   "outputs": [
    {
     "name": "stdout",
     "output_type": "stream",
     "text": [
      "Wall time: 3min 38s\n"
     ]
    }
   ],
   "source": [
    "%%time\n",
    "########################################################################\n",
    "######################### Write your code here #########################\n",
    "from sklearn.decomposition import LatentDirichletAllocation\n",
    "\n",
    "LDA = LatentDirichletAllocation(n_components=10, max_iter = 10, learning_decay= 0.7, learning_offset= 10, learning_method='online', random_state=20, n_jobs=-1)\n",
    "LDA.fit(X_transformed)"
   ]
  },
  {
   "cell_type": "code",
   "execution_count": 18,
   "metadata": {},
   "outputs": [
    {
     "name": "stdout",
     "output_type": "stream",
     "text": [
      "Components by permissions matrix shape: (10, 173)\n"
     ]
    }
   ],
   "source": [
    "print(\"Components by permissions matrix shape:\", LDA.components_.shape)"
   ]
  },
  {
   "cell_type": "markdown",
   "metadata": {},
   "source": [
    "Now each app can be viewed as a distribution over these 10 topics, and each topic is a distribution over all the permissions in the data."
   ]
  },
  {
   "cell_type": "markdown",
   "metadata": {},
   "source": [
    "### Part E: List the top 10 \"words\" in each topic [15 points]\n",
    "\n",
    "Do any of the topics correspond to meaningful app \"purposes\"? List the ones you find meaningful below:\n",
    "\n",
    "   * Topic #i: \"your interpretation\""
   ]
  },
  {
   "cell_type": "code",
   "execution_count": 19,
   "metadata": {},
   "outputs": [
    {
     "name": "stdout",
     "output_type": "stream",
     "text": [
      "<class 'numpy.ndarray'>\n",
      "1730\n",
      "(10, 173)\n",
      "173\n"
     ]
    }
   ],
   "source": [
    "########################################################################\n",
    "######################### Write your code here #########################\n",
    "########################################################################\n",
    "\n",
    "topic_word_distributions = np.array([topic_word_pseudocounts / np.sum(topic_word_pseudocounts)\n",
    "                                     for topic_word_pseudocounts in LDA.components_])\n",
    "\n",
    "print(type(topic_word_distributions))\n",
    "print(topic_word_distributions.size)\n",
    "print(topic_word_distributions.shape)\n",
    "print(len(permission_columns))\n"
   ]
  },
  {
   "cell_type": "code",
   "execution_count": 20,
   "metadata": {},
   "outputs": [
    {
     "name": "stdout",
     "output_type": "stream",
     "text": [
      "Displaying the top 10 words per topic and their probabilities within the topic...\n",
      "\n",
      "[Topic 0]\n",
      "Storage : modify/delete USB storage contents modify/delete SD card contents (D) : 0.547589\n",
      "Network communication : full Internet access (D) : 0.210895\n",
      "Network communication : view network state (S) : 0.126433\n",
      "Hardware controls : record audio (D) : 0.105671\n",
      "Default : delete other applications' caches (S) : 0.007547\n",
      "System tools : send package removed broadcast (S) : 0.000846\n",
      "Default : read frame buffer (S) : 0.000006\n",
      "Default : delete other applications' data (S) : 0.000006\n",
      "Default : access SurfaceFlinger (S) : 0.000006\n",
      "Hardware controls : control vibrator (S) : 0.000006\n",
      "\n",
      "[Topic 1]\n",
      "Hardware controls : take pictures and videos (D) : 0.134684\n",
      "Services that cost you money : directly call phone numbers (D) : 0.131066\n",
      "Your location : fine (GPS) location (D) : 0.102678\n",
      "Network communication : full Internet access (D) : 0.081951\n",
      "Your location : coarse (network-based) location (D) : 0.081762\n",
      "Storage : modify/delete USB storage contents modify/delete SD card contents (D) : 0.079794\n",
      "Your personal information : read contact data (D) : 0.073604\n",
      "Network communication : view network state (S) : 0.058428\n",
      "Phone calls : read phone state and identity (D) : 0.055395\n",
      "Your location : access extra location provider commands (S) : 0.046186\n",
      "\n",
      "[Topic 2]\n",
      "Your location : coarse (network-based) location (D) : 0.318370\n",
      "Your location : fine (GPS) location (D) : 0.282533\n",
      "Network communication : full Internet access (D) : 0.167554\n",
      "Network communication : view network state (S) : 0.105976\n",
      "Phone calls : read phone state and identity (D) : 0.085186\n",
      "Storage : modify/delete USB storage contents modify/delete SD card contents (D) : 0.038138\n",
      "Default : permission to install a location provider (S) : 0.001620\n",
      "System tools : send sticky broadcast (S) : 0.000004\n",
      "Default : modify/delete USB storage contents modify/delete SD card contents (S) : 0.000004\n",
      "Services that cost you money : directly call phone numbers (D) : 0.000004\n",
      "\n",
      "[Topic 3]\n",
      "Network communication : view Wi-Fi state (S) : 0.492237\n",
      "Storage : modify/delete USB storage contents modify/delete SD card contents (D) : 0.137459\n",
      "Network communication : view network state (S) : 0.134702\n",
      "Phone calls : read phone state and identity (D) : 0.116751\n",
      "Network communication : full Internet access (D) : 0.115909\n",
      "Default : force application to close (S) : 0.000554\n",
      "Default : prevent app switches (S) : 0.000385\n",
      "Default : read phone state and identity (S) : 0.000292\n",
      "Default : modify/delete USB storage contents modify/delete SD card contents (S) : 0.000132\n",
      "Default : discover known accounts (S) : 0.000121\n",
      "\n",
      "[Topic 4]\n",
      "Hardware controls : control vibrator (S) : 0.449906\n",
      "System tools : automatically start at boot (S) : 0.155992\n",
      "Network communication : full Internet access (D) : 0.129597\n",
      "Network communication : view network state (S) : 0.099183\n",
      "Phone calls : read phone state and identity (D) : 0.071522\n",
      "Your personal information : read Browser's history and bookmarks (D) : 0.050798\n",
      "Your personal information : write Browser's history and bookmarks (D) : 0.041825\n",
      "Default : Send download notifications. (S) : 0.000342\n",
      "Default : read instant messages (S) : 0.000005\n",
      "Default : write instant messages (S) : 0.000005\n",
      "\n",
      "[Topic 5]\n",
      "System tools : set wallpaper (S) : 0.259767\n",
      "Network communication : receive data from Internet (S) : 0.125553\n",
      "Network communication : full Internet access (D) : 0.092773\n",
      "Network communication : view network state (S) : 0.092454\n",
      "Storage : modify/delete USB storage contents modify/delete SD card contents (D) : 0.083048\n",
      "System tools : mount and unmount filesystems (D) : 0.066278\n",
      "Hardware controls : control vibrator (S) : 0.052639\n",
      "Phone calls : read phone state and identity (D) : 0.046472\n",
      "Hardware controls : control flashlight (S) : 0.043195\n",
      "System tools : prevent device from sleeping (D) : 0.041765\n",
      "\n",
      "[Topic 6]\n",
      "Your accounts : discover known accounts (S) : 0.059838\n",
      "Services that cost you money : send SMS messages (D) : 0.054297\n",
      "System tools : prevent device from sleeping (D) : 0.051277\n",
      "Phone calls : read phone state and identity (D) : 0.044433\n",
      "Your messages : receive SMS (D) : 0.043669\n",
      "System tools : automatically start at boot (S) : 0.042983\n",
      "Your personal information : read contact data (D) : 0.041370\n",
      "Network communication : full Internet access (D) : 0.038774\n",
      "Network communication : view network state (S) : 0.037599\n",
      "Hardware controls : control vibrator (S) : 0.035878\n",
      "\n",
      "[Topic 7]\n",
      "Network communication : full Internet access (D) : 0.702689\n",
      "Network communication : view network state (S) : 0.296845\n",
      "Your accounts : discover known accounts (S) : 0.000003\n",
      "Services that cost you money : send SMS messages (D) : 0.000003\n",
      "Your messages : write instant messages (D) : 0.000003\n",
      "Default : mock location sources for testing (S) : 0.000003\n",
      "Network communication : download files without notification (S) : 0.000003\n",
      "Default : act as an account authenticator (S) : 0.000003\n",
      "Default : start IM service (S) : 0.000003\n",
      "Default : write contact data (S) : 0.000003\n",
      "\n",
      "[Topic 8]\n",
      "System tools : prevent device from sleeping (D) : 0.314518\n",
      "Phone calls : read phone state and identity (D) : 0.231292\n",
      "Network communication : full Internet access (D) : 0.168746\n",
      "Network communication : view network state (S) : 0.151820\n",
      "Storage : modify/delete USB storage contents modify/delete SD card contents (D) : 0.130064\n",
      "Default : bind to a wallpaper (S) : 0.002920\n",
      "Default : directly install applications (S) : 0.000004\n",
      "Hardware controls : take pictures and videos (D) : 0.000004\n",
      "Hardware controls : control vibrator (S) : 0.000004\n",
      "Your location : coarse (network-based) location (D) : 0.000004\n",
      "\n",
      "[Topic 9]\n",
      "System tools : retrieve running applications (D) : 0.150519\n",
      "Phone calls : read phone state and identity (D) : 0.075424\n",
      "Network communication : view Wi-Fi state (S) : 0.068365\n",
      "Network communication : view network state (S) : 0.066870\n",
      "System tools : change Wi-Fi state (D) : 0.064763\n",
      "System tools : kill background processes (S) : 0.063531\n",
      "Network communication : full Internet access (D) : 0.058264\n",
      "Storage : modify/delete USB storage contents modify/delete SD card contents (D) : 0.053500\n",
      "Network communication : create Bluetooth connections (D) : 0.043416\n",
      "Your personal information : read sensitive log data (D) : 0.043189\n",
      "\n"
     ]
    }
   ],
   "source": [
    "num_top_words = 10\n",
    "\n",
    "print('Displaying the top %d words per topic and their probabilities within the topic...' % num_top_words)\n",
    "print()\n",
    "\n",
    "for topic_idx in range(10):\n",
    "    print('[Topic ', topic_idx, ']', sep='')\n",
    "    sort_indices = np.argsort(topic_word_distributions[topic_idx])[::-1]\n",
    "    for rank in range(num_top_words):\n",
    "        word_idx = sort_indices[rank]\n",
    "        print(permission_columns[word_idx], ':', \"{:1.6f}\".format(topic_word_distributions[topic_idx, word_idx]))\n",
    "    print()"
   ]
  },
  {
   "cell_type": "markdown",
   "metadata": {},
   "source": [
    "*** WRITE YOUR ANSWER HERE IN TEXT ***\n",
    "\n",
    "There are some topics that seem to have similarly grouped features and corresponse to meaningfull app purchases. Topic 3 seems to be corresponding to communication type apps, since the permission all the app to directly call phone numbers, send SMS message, read contact data, and receive SMS. Topic 2 has permissions related to GPS locations, so location based apps may be in this topic. Some topics though don't seem to permissions that make sense together. This may be because the number of clusters we have chosen. We could change the number of topics and check the cluster coherence to see how it changes to figure out the optimal number of topics. "
   ]
  },
  {
   "cell_type": "markdown",
   "metadata": {},
   "source": [
    "### Part F: For each topic, list the top 3 apps with at least 100000 ratings having the highest probability assigned to that topic [15 points]\n",
    "\n",
    "   - This further helps us understand what the topics actually mean.\n",
    "   - However, the data is noisy and this exercise may result in listing a bunch of obscure apps.\n",
    "   - Hence, filtering out all apps with less than 100000 ratings may help."
   ]
  },
  {
   "cell_type": "code",
   "execution_count": 21,
   "metadata": {},
   "outputs": [
    {
     "name": "stdout",
     "output_type": "stream",
     "text": [
      "Number of apps > 100,000 Ratings:  95\n",
      "Number of apps > 3,000 Ratings  :  2503\n"
     ]
    }
   ],
   "source": [
    "########################################################################\n",
    "######################### Write your code here #########################\n",
    "\n",
    "#Filter on apps with more than 100,000 ratings\n",
    "high_app_ratings = app_ratings > 100000\n",
    "app_ratings_3k = app_ratings > 3000 #Filters approx. 2500 apps, use for plotting scatter plot\n",
    "\n",
    "#Filter app x feature matrix by top rated apps\n",
    "X_high_ratings = X1[high_app_ratings]\n",
    "top_app_names = X_app_names[high_app_ratings]\n",
    "X_app_ratings_3k = X1[app_ratings_3k]\n",
    "\n",
    "print(\"Number of apps > 100,000 Ratings: \", len(X_high_ratings))\n",
    "print(\"Number of apps > 3,000 Ratings  : \", len(X_app_ratings_3k))"
   ]
  },
  {
   "cell_type": "code",
   "execution_count": 22,
   "metadata": {},
   "outputs": [
    {
     "name": "stdout",
     "output_type": "stream",
     "text": [
      "[All apps]\n",
      "App by Permissions matrix shape             : (180295, 173)\n",
      "Topic by Permission Transposed matrix shape : (173, 10)\n",
      "App by Topic dot product result matrix shape: (180295, 10)\n",
      "\n",
      "[Top apps with > 100,000 ratings]\n",
      "App by Permissions matrix shape             : (95, 173)\n",
      "Topic by Permission Transposed matrix shape : (173, 10)\n",
      "App by Topic dot product result matrix shape: (95, 10)\n"
     ]
    }
   ],
   "source": [
    "#Transpose to do matrix dot product\n",
    "topic_word_transpose = topic_word_distributions.transpose()\n",
    "\n",
    "#Perform dot product to determine probability of an app being within each topic\n",
    "X_all_app_topic = np.dot(X1, topic_word_transpose) #All apps\n",
    "X_app_topic = np.dot(X_high_ratings, topic_word_transpose) #Top apps, ratings > 100K\n",
    "X_3k_app_topic = np.dot(X_app_ratings_3k, topic_word_transpose) #Ratings > 3K\n",
    "\n",
    "print('[All apps]')\n",
    "print(\"App by Permissions matrix shape             :\", X1.shape)\n",
    "print(\"Topic by Permission Transposed matrix shape :\", topic_word_transpose.shape)\n",
    "print(\"App by Topic dot product result matrix shape:\", X_all_app_topic.shape)\n",
    "\n",
    "print('\\n[Top apps with > 100,000 ratings]')\n",
    "print(\"App by Permissions matrix shape             :\", X_high_ratings.shape)\n",
    "print(\"Topic by Permission Transposed matrix shape :\", topic_word_transpose.shape)\n",
    "print(\"App by Topic dot product result matrix shape:\", X_app_topic.shape)\n",
    "\n"
   ]
  },
  {
   "cell_type": "code",
   "execution_count": 23,
   "metadata": {},
   "outputs": [
    {
     "name": "stdout",
     "output_type": "stream",
     "text": [
      "\n",
      "[Topic 0]\n",
      "Rank 1 Name:  Skype Score:  0.990734\n",
      "Rank 2 Name:  WhatsApp Messenger Score:  0.990728\n",
      "Rank 3 Name:  Tango Voice & Video Calls Score:  0.990722\n",
      "\n",
      "[Topic 1]\n",
      "Rank 1 Name:  Skype Score:  0.790021\n",
      "Rank 2 Name:  WhatsApp Messenger Score:  0.763052\n",
      "Rank 3 Name:  Google Maps Score:  0.714817\n",
      "\n",
      "[Topic 2]\n",
      "Rank 1 Name:  Lookout Security & Antivirus Score:  0.997854\n",
      "Rank 2 Name:  WhatsApp Messenger Score:  0.997836\n",
      "Rank 3 Name:  Google Maps Score:  0.997828\n",
      "\n",
      "[Topic 3]\n",
      "Rank 1 Name:  Skype Score:  0.997263\n",
      "Rank 2 Name:  WhatsApp Messenger Score:  0.997254\n",
      "Rank 3 Name:  Tango Voice & Video Calls Score:  0.997245\n",
      "\n",
      "[Topic 4]\n",
      "Rank 1 Name:  Lookout Security & Antivirus Score:  0.998949\n",
      "Rank 2 Name:  Antivirus Free Score:  0.998944\n",
      "Rank 3 Name:  Dolphin Browser??? HD Score:  0.927341\n",
      "\n",
      "[Topic 5]\n",
      "Rank 1 Name:  Handcent SMS Score:  0.705198\n",
      "Rank 2 Name:  Dolphin Browser??? HD Score:  0.681475\n",
      "Rank 3 Name:  Dolphin Browser™ HD Score:  0.681475\n",
      "\n",
      "[Topic 6]\n",
      "Rank 1 Name:  Lookout Security & Antivirus Score:  0.686829\n",
      "Rank 2 Name:  chompSMS Score:  0.674875\n",
      "Rank 3 Name:  GO SMS Pro Score:  0.671523\n",
      "\n",
      "[Topic 7]\n",
      "Rank 1 Name:  Lookout Security & Antivirus Score:  0.999616\n",
      "Rank 2 Name:  Antivirus Free Score:  0.999614\n",
      "Rank 3 Name:  Skype Score:  0.999605\n",
      "\n",
      "[Topic 8]\n",
      "Rank 1 Name:  Lookout Security & Antivirus Score:  0.996544\n",
      "Rank 2 Name:  Skype Score:  0.996529\n",
      "Rank 3 Name:  WhatsApp Messenger Score:  0.996525\n",
      "\n",
      "[Topic 9]\n",
      "Rank 1 Name:  Skype Score:  0.652725\n",
      "Rank 2 Name:  Antivirus Free Score:  0.647303\n",
      "Rank 3 Name:  Handcent SMS Score:  0.635253\n"
     ]
    }
   ],
   "source": [
    "## determine top 3 apps most probable to be within each topic \n",
    "\n",
    "for topic_idx in range(topic_word_transpose.shape[1]):\n",
    "    app_scores = []\n",
    "    app_score_dict = {}\n",
    "    \n",
    "    print('\\n[Topic ', topic_idx, ']', sep='')\n",
    "    \n",
    "    for app_idx in range(len(X_high_ratings)):\n",
    "        app_score = X_app_topic[app_idx, topic_idx]\n",
    "        app_scores.append(app_score)\n",
    "        app_score_dict[top_app_names[app_idx]] = app_score \n",
    "    \n",
    "    #Sort dictionary\n",
    "    from operator import itemgetter\n",
    "    sorted_app_count = sorted(app_score_dict.items(), \n",
    "                           reverse = True, \n",
    "                           key=itemgetter(1))\n",
    "    \n",
    "    rank = 1\n",
    "    for app, score in sorted_app_count[:3]:\n",
    "        print(\"Rank\", rank, \"Name: \", app, \"Score: \", \"{:1.6f}\".format(score))\n",
    "        rank +=1"
   ]
  },
  {
   "cell_type": "markdown",
   "metadata": {},
   "source": [
    "### Part G: Visualize the document-topic proportion matrix in 2-D using t-SNE [10 points]\n",
    "\n",
    "Does our reduced dimensional space contain any structure? Visualize the documents (in the topic-space) using t-SNE.\n",
    "\n",
    "   * Use `TSNE` from `scikit-learn`.\n",
    "   * Set the angle to 0.99 and init to 'PCA'. Pick any learning rate that gives you a visually pleasing result.\n",
    "   * You may `fit` TSNE to a sample of the data (>1000 documents) instead of the full data.\n",
    "   * Remember to call `fit_transform` to obtain your 2-D data.\n",
    "   * Plot the t-SNE dimensions as a scatterplot.\n",
    "   * Color each point based on its most probable topic. Make sure you include a legend (10 colors).\n",
    "   \n",
    "Clusters in the t-SNE plot indicate groups of apps that have similar topics."
   ]
  },
  {
   "cell_type": "code",
   "execution_count": 24,
   "metadata": {},
   "outputs": [
    {
     "name": "stdout",
     "output_type": "stream",
     "text": [
      "Topic    Count of Apps\n",
      "0        171\n",
      "1        11\n",
      "2        48\n",
      "3        35\n",
      "4        76\n",
      "5        8\n",
      "6        9\n",
      "7        1927\n",
      "8        59\n",
      "9        159\n",
      "Total    2503\n"
     ]
    }
   ],
   "source": [
    "######################### Write your code here #########################\n",
    "from sklearn.manifold import TSNE\n",
    "\n",
    "#Using list of top 2500 apps for plotting\n",
    "\n",
    "#Create Topic Labels for colors\n",
    "topic_labels = []\n",
    "for app_idx in range (X_3k_app_topic.shape[0]):\n",
    "    topics_sorted = []\n",
    "    topics_sorted = np.argsort(X_3k_app_topic[app_idx])[::-1]\n",
    "    topic_labels.append(topics_sorted[0])\n",
    "\n",
    "print(\"Topic    Count of Apps\")\n",
    "for topic in range(10):\n",
    "    print(topic, \"      \", topic_labels.count(topic))\n",
    "\n",
    "print(\"Total   \",len(topic_labels))"
   ]
  },
  {
   "cell_type": "code",
   "execution_count": 25,
   "metadata": {},
   "outputs": [
    {
     "name": "stdout",
     "output_type": "stream",
     "text": [
      "[t-SNE] Computing 241 nearest neighbors...\n",
      "[t-SNE] Indexed 2503 samples in 0.006s...\n",
      "[t-SNE] Computed neighbors for 2503 samples in 0.305s...\n",
      "[t-SNE] Computed conditional probabilities for sample 1000 / 2503\n",
      "[t-SNE] Computed conditional probabilities for sample 2000 / 2503\n",
      "[t-SNE] Computed conditional probabilities for sample 2503 / 2503\n",
      "[t-SNE] Mean sigma: 0.000000\n",
      "[t-SNE] KL divergence after 250 iterations with early exaggeration: 54.065826\n",
      "[t-SNE] KL divergence after 1000 iterations: 0.286503\n"
     ]
    },
    {
     "data": {
      "image/png": "[encoded data removed]",
      "text/plain": [
       "<Figure size 432x288 with 1 Axes>"
      ]
     },
     "metadata": {
      "needs_background": "light"
     },
     "output_type": "display_data"
    },
    {
     "name": "stdout",
     "output_type": "stream",
     "text": [
      "Wall time: 25.7 s\n"
     ]
    }
   ],
   "source": [
    "%%time\n",
    "#Run tSNE and plot graph\n",
    "tsne = TSNE(n_components=2, perplexity=80, learning_rate=300, init='pca', angle = 0.99, verbose = 1, random_state=0)\n",
    "X_app_topic_tsne = tsne.fit_transform(X_3k_app_topic)\n",
    "\n",
    "for topic in range(10):\n",
    "    plt.scatter(X_app_topic_tsne[np.array(topic_labels)==topic][:, 0]\n",
    "              , X_app_topic_tsne[np.array(topic_labels)==topic][:, 1], \n",
    "                label=('Topic ' + str(topic)))\n",
    "\n",
    "plt.legend(loc=4, bbox_to_anchor=(1.25, .1))\n",
    "plt.title(\"t-SNE Dimensionality Reduction\")\n",
    "plt.axis('equal')\n",
    "plt.show()"
   ]
  },
  {
   "cell_type": "markdown",
   "metadata": {},
   "source": [
    "The t-SNE reduced dimensions does contain a clustering structure. Topic 7 had a majority of the apps, so that topic appears in many of the clusters seen in t-SNE."
   ]
  },
  {
   "cell_type": "markdown",
   "metadata": {},
   "source": [
    "## Question 3: Questionnaire [5 points]\n",
    "\n",
    "Please answer this survey after you have done this homework: https://goo.gl/forms/qi1acwKwxSfNJfjt1"
   ]
  }
 ],
 "metadata": {
  "kernelspec": {
   "display_name": "Python 3",
   "language": "python",
   "name": "python3"
  },
  "language_info": {
   "codemirror_mode": {
    "name": "ipython",
    "version": 3
   },
   "file_extension": ".py",
   "mimetype": "text/x-python",
   "name": "python",
   "nbconvert_exporter": "python",
   "pygments_lexer": "ipython3",
   "version": "3.7.0"
  }
 },
 "nbformat": 4,
 "nbformat_minor": 2
}
